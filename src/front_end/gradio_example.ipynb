{
 "cells": [
  {
   "cell_type": "markdown",
   "metadata": {},
   "source": [
    "# Gradio Example"
   ]
  },
  {
   "cell_type": "code",
   "execution_count": null,
   "metadata": {},
   "outputs": [],
   "source": [
    "import gradio as gr\n",
    "import chromadb\n",
    "import pandas as pd\n",
    "\n",
    "DATA_DIR = \"src/data\"\n",
    "RESEARCH_PAPER_DB = f\"{DATA_DIR}/papers_titles_&_abstracts_1470.csv\"\n",
    "\n",
    "papers_df = pd.read_csv(RESEARCH_PAPER_DB)\n",
    "# collection = chroma_client.create_collection(\"example_database\")\n",
    "chroma_client = chromadb.PersistentClient(path=\"src/vector_database/chroma_data/\")\n",
    "collection = chroma_client.get_collection(\"example_database\")\n",
    "chroma_client.list_collections()"
   ]
  },
  {
   "cell_type": "code",
   "execution_count": null,
   "metadata": {},
   "outputs": [],
   "source": [
    "# To create an example collection\n",
    "# document_list = [row[\"PAPER_TITLE\"] for idx, row in papers_df.iterrows() if idx < 20]\n",
    "# document_ids = [row[\"PAPER_LINK\"] for idx, row in papers_df.iterrows() if idx < 20]\n",
    "# collection.add(\n",
    "#     documents=document_list,\n",
    "#     ids=document_ids,\n",
    "# )"
   ]
  },
  {
   "cell_type": "code",
   "execution_count": null,
   "metadata": {},
   "outputs": [],
   "source": [
    "test_result = collection.query(\n",
    "    query_texts=[\"give me research on heart conditions\"],\n",
    "    n_results=5,\n",
    ")"
   ]
  },
  {
   "cell_type": "code",
   "execution_count": null,
   "metadata": {},
   "outputs": [],
   "source": [
    "# We can embed more information here, such as include the abstract within the metadata to\n",
    "# then be pulled for summarisation\n",
    "test_result"
   ]
  },
  {
   "cell_type": "code",
   "execution_count": null,
   "metadata": {},
   "outputs": [],
   "source": [
    "def query(query_text: str):\n",
    "    results = collection.query(\n",
    "        query_texts=[query_text],\n",
    "        n_results=5,\n",
    "    )\n",
    "    similar_docs = results[\"documents\"][0]\n",
    "\n",
    "    return pd.DataFrame({\"Relevant Documents\": similar_docs}), \"summarised_text\""
   ]
  },
  {
   "cell_type": "code",
   "execution_count": null,
   "metadata": {},
   "outputs": [],
   "source": [
    "with gr.Blocks(theme=gr.themes.base.Base(), title=\"Ask us anything\") as demo:\n",
    "    gr.Markdown(\n",
    "        \"\"\"\n",
    "        # Retreive relevant research papers to your query\n",
    "        \"\"\"\n",
    "    )\n",
    "    textbox = gr.Textbox(label=\"Please enter your question:\")\n",
    "    with gr.Row():\n",
    "        button = gr.Button(\"Submit\", variant=\"primary\")\n",
    "    with gr.Column():\n",
    "        output_summary = gr.Textbox(label=\"Summary:\")\n",
    "        output = gr.List(type=\"pandas\", label=\"Relevant documents:\")\n",
    "\n",
    "    button.click(query, textbox, outputs=[output, output_summary])"
   ]
  },
  {
   "cell_type": "code",
   "execution_count": null,
   "metadata": {},
   "outputs": [],
   "source": [
    "demo.launch()"
   ]
  }
 ],
 "metadata": {
  "kernelspec": {
   "display_name": "_venv",
   "language": "python",
   "name": "python3"
  },
  "language_info": {
   "codemirror_mode": {
    "name": "ipython",
    "version": 3
   },
   "file_extension": ".py",
   "mimetype": "text/x-python",
   "name": "python",
   "nbconvert_exporter": "python",
   "pygments_lexer": "ipython3",
   "version": "3.11.9"
  }
 },
 "nbformat": 4,
 "nbformat_minor": 2
}
