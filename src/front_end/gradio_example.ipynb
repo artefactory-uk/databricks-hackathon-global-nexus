{
 "cells": [
  {
   "cell_type": "markdown",
   "metadata": {
    "application/vnd.databricks.v1+cell": {
     "cellMetadata": {},
     "inputWidgets": {},
     "nuid": "8a0f8908-461d-4285-8243-3be8e372e7ad",
     "showTitle": false,
     "title": ""
    }
   },
   "source": [
    "# Gradio Example"
   ]
  },
  {
   "cell_type": "code",
   "execution_count": 0,
   "metadata": {
    "application/vnd.databricks.v1+cell": {
     "cellMetadata": {
      "byteLimit": 2048000,
      "rowLimit": 10000
     },
     "inputWidgets": {},
     "nuid": "ba057d7c-4b3e-4908-8db1-0943803f1069",
     "showTitle": false,
     "title": ""
    }
   },
   "outputs": [],
   "source": [
    "import gradio as gr\n",
    "import chromadb\n",
    "import pandas as pd\n",
    "\n",
    "DATA_DIR = \"src/data\"\n",
    "RESEARCH_PAPER_DB = f\"{DATA_DIR}/papers_titles_&_abstracts_1470.csv\"\n",
    "\n",
    "papers_df = pd.read_csv(RESEARCH_PAPER_DB)\n",
    "# collection = chroma_client.create_collection(\"example_database\")\n",
    "chroma_client = chromadb.PersistentClient(path=\"src/vector_database/chroma_data/\")\n",
    "collection = chroma_client.get_collection(\"example_database\")\n",
    "chroma_client.list_collections()"
   ]
  },
  {
   "cell_type": "code",
   "execution_count": 0,
   "metadata": {
    "application/vnd.databricks.v1+cell": {
     "cellMetadata": {},
     "inputWidgets": {},
     "nuid": "0df343f4-dbe8-4fc1-be56-92035836538a",
     "showTitle": false,
     "title": ""
    }
   },
   "outputs": [],
   "source": [
    "# To create an example collection\n",
    "# document_list = [row[\"PAPER_TITLE\"] for idx, row in papers_df.iterrows() if idx < 20]\n",
    "# document_ids = [row[\"PAPER_LINK\"] for idx, row in papers_df.iterrows() if idx < 20]\n",
    "# collection.add(\n",
    "#     documents=document_list,\n",
    "#     ids=document_ids,\n",
    "# )"
   ]
  },
  {
   "cell_type": "code",
   "execution_count": 0,
   "metadata": {
    "application/vnd.databricks.v1+cell": {
     "cellMetadata": {},
     "inputWidgets": {},
     "nuid": "559ad04e-3b20-4860-a149-d5147aa2f705",
     "showTitle": false,
     "title": ""
    }
   },
   "outputs": [],
   "source": [
    "test_result = collection.query(\n",
    "    query_texts=[\"give me research on heart conditions\"],\n",
    "    n_results=5,\n",
    ")"
   ]
  },
  {
   "cell_type": "code",
   "execution_count": 0,
   "metadata": {
    "application/vnd.databricks.v1+cell": {
     "cellMetadata": {},
     "inputWidgets": {},
     "nuid": "3aa86028-8f13-47ab-98fa-a3a81c1a0c4d",
     "showTitle": false,
     "title": ""
    }
   },
   "outputs": [],
   "source": [
    "# We can embed more information here, such as include the abstract within the metadata to\n",
    "# then be pulled for summarisation\n",
    "test_result"
   ]
  },
  {
   "cell_type": "code",
   "execution_count": 0,
   "metadata": {
    "application/vnd.databricks.v1+cell": {
     "cellMetadata": {},
     "inputWidgets": {},
     "nuid": "4939afb9-5646-41be-b81b-794ef3dd9ed8",
     "showTitle": false,
     "title": ""
    }
   },
   "outputs": [],
   "source": [
    "def query(query_text: str):\n",
    "    results = collection.query(\n",
    "        query_texts=[query_text],\n",
    "        n_results=5,\n",
    "    )\n",
    "    similar_docs = results[\"documents\"][0]\n",
    "\n",
    "    return pd.DataFrame({\"Relevant Documents\": similar_docs}), \"summarised_text\""
   ]
  },
  {
   "cell_type": "code",
   "execution_count": 0,
   "metadata": {
    "application/vnd.databricks.v1+cell": {
     "cellMetadata": {},
     "inputWidgets": {},
     "nuid": "9c98ce7b-aeff-4f62-9c31-a0e2fbd51b29",
     "showTitle": false,
     "title": ""
    }
   },
   "outputs": [],
   "source": [
    "with gr.Blocks(theme=gr.themes.base.Base(), title=\"Ask us anything\") as demo:\n",
    "    gr.Markdown(\n",
    "        \"\"\"\n",
    "        # Retreive relevant research papers to your query\n",
    "        \"\"\"\n",
    "    )\n",
    "    textbox = gr.Textbox(label=\"Please enter your question:\")\n",
    "    with gr.Row():\n",
    "        button = gr.Button(\"Submit\", variant=\"primary\")\n",
    "    with gr.Column():\n",
    "        output_summary = gr.Textbox(label=\"Summary:\")\n",
    "        output = gr.List(type=\"pandas\", label=\"Relevant documents:\")\n",
    "\n",
    "    button.click(query, textbox, outputs=[output, output_summary])"
   ]
  },
  {
   "cell_type": "code",
   "execution_count": 0,
   "metadata": {
    "application/vnd.databricks.v1+cell": {
     "cellMetadata": {},
     "inputWidgets": {},
     "nuid": "8bfff52b-d453-4708-b912-26ea052ff10d",
     "showTitle": false,
     "title": ""
    }
   },
   "outputs": [],
   "source": [
    "demo.launch()"
   ]
  }
 ],
 "metadata": {
  "application/vnd.databricks.v1+notebook": {
   "dashboards": [],
   "language": "python",
   "notebookMetadata": {
    "pythonIndentUnit": 4
   },
   "notebookName": "gradio_example",
   "widgets": {}
  },
  "kernelspec": {
   "display_name": "_venv",
   "language": "python",
   "name": "python3"
  },
  "language_info": {
   "codemirror_mode": {
    "name": "ipython",
    "version": 3
   },
   "file_extension": ".py",
   "mimetype": "text/x-python",
   "name": "python",
   "nbconvert_exporter": "python",
   "pygments_lexer": "ipython3",
   "version": "3.11.9"
  }
 },
 "nbformat": 4,
 "nbformat_minor": 0
}
