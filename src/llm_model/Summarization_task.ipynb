{
 "cells": [
  {
   "cell_type": "code",
   "execution_count": 0,
   "metadata": {
    "application/vnd.databricks.v1+cell": {
     "cellMetadata": {
      "byteLimit": 2048000,
      "rowLimit": 10000
     },
     "inputWidgets": {},
     "nuid": "e818f0f0-4b2e-41dd-b38e-363651a386e6",
     "showTitle": false,
     "title": ""
    }
   },
   "outputs": [],
   "source": [
    "import pandas as pd\n",
    "DATA_DIR = '/Workspace/Repos/global_nexus/databricks-hackathon-global-nexus/src/data'\n",
    "RESEARCH_PAPER_DB = f'{DATA_DIR}/papers_titles_&_abstracts_1470.csv'"
   ]
  },
  {
   "cell_type": "code",
   "execution_count": 0,
   "metadata": {
    "application/vnd.databricks.v1+cell": {
     "cellMetadata": {
      "byteLimit": 2048000,
      "rowLimit": 10000
     },
     "inputWidgets": {},
     "nuid": "c8c3e2a5-44f3-4d16-9c9b-c7a1c85992e8",
     "showTitle": false,
     "title": ""
    }
   },
   "outputs": [],
   "source": [
    "papers_df = pd.read_csv(RESEARCH_PAPER_DB)\n",
    "papers_df.head()"
   ]
  },
  {
   "cell_type": "code",
   "execution_count": 0,
   "metadata": {
    "application/vnd.databricks.v1+cell": {
     "cellMetadata": {
      "byteLimit": 2048000,
      "rowLimit": 10000
     },
     "inputWidgets": {},
     "nuid": "be1d6691-8b9b-4fcd-aac4-8bd521dfdcea",
     "showTitle": false,
     "title": ""
    }
   },
   "outputs": [],
   "source": [
    "import chromadb\n",
    "chroma_client = chromadb.Client()\n",
    "# collection = chroma_client.create_collection(\"ali_example_database\")\n",
    "collection = chroma_client.get_collection(\"ali_example_database\")"
   ]
  },
  {
   "cell_type": "code",
   "execution_count": 0,
   "metadata": {
    "application/vnd.databricks.v1+cell": {
     "cellMetadata": {
      "byteLimit": 2048000,
      "rowLimit": 10000
     },
     "inputWidgets": {},
     "nuid": "5a8615a3-5559-4f7d-8fdd-c98df94291e0",
     "showTitle": false,
     "title": ""
    }
   },
   "outputs": [],
   "source": [
    "# collection.add(\n",
    "#     documents=[row[\"PAPER_TITLE\"] for idx, row in papers_df.iterrows()], \n",
    "#     ids=[row[\"PAPER_LINK\"] for idx, row in papers_df.iterrows()], \n",
    "# )"
   ]
  },
  {
   "cell_type": "code",
   "execution_count": 0,
   "metadata": {
    "application/vnd.databricks.v1+cell": {
     "cellMetadata": {
      "byteLimit": 2048000,
      "rowLimit": 10000
     },
     "inputWidgets": {},
     "nuid": "cb1e1df0-3d29-482c-8762-0df6956f6456",
     "showTitle": false,
     "title": ""
    }
   },
   "outputs": [],
   "source": [
    "query= \"Give me any results about methamphetamine\""
   ]
  },
  {
   "cell_type": "code",
   "execution_count": 0,
   "metadata": {
    "application/vnd.databricks.v1+cell": {
     "cellMetadata": {
      "byteLimit": 2048000,
      "rowLimit": 10000
     },
     "inputWidgets": {},
     "nuid": "73412a9f-8a15-49cf-bdf5-1659d115692f",
     "showTitle": false,
     "title": ""
    }
   },
   "outputs": [],
   "source": [
    "results = collection.query(\n",
    "    query_texts=[query],\n",
    "    n_results=5\n",
    ")"
   ]
  },
  {
   "cell_type": "code",
   "execution_count": 0,
   "metadata": {
    "application/vnd.databricks.v1+cell": {
     "cellMetadata": {
      "byteLimit": 2048000,
      "rowLimit": 10000
     },
     "inputWidgets": {},
     "nuid": "ced95c98-f2cb-457f-81b8-f28699dd2ed7",
     "showTitle": false,
     "title": ""
    }
   },
   "outputs": [],
   "source": [
    "results"
   ]
  },
  {
   "cell_type": "code",
   "execution_count": 0,
   "metadata": {
    "application/vnd.databricks.v1+cell": {
     "cellMetadata": {
      "byteLimit": 2048000,
      "rowLimit": 10000
     },
     "inputWidgets": {},
     "nuid": "249b3e56-3d80-42fe-81e8-e360e5229f8f",
     "showTitle": false,
     "title": ""
    }
   },
   "outputs": [],
   "source": [
    "similarities = results['distances']\n",
    "resulted_titles = results['documents']\n",
    "resulted_links = results['ids']"
   ]
  },
  {
   "cell_type": "code",
   "execution_count": 0,
   "metadata": {
    "application/vnd.databricks.v1+cell": {
     "cellMetadata": {
      "byteLimit": 2048000,
      "rowLimit": 10000
     },
     "inputWidgets": {},
     "nuid": "13cd6a0c-195b-48ad-8075-93b94cc09e5c",
     "showTitle": false,
     "title": ""
    }
   },
   "outputs": [],
   "source": [
    "rank= []\n",
    "title = []\n",
    "link= []\n",
    "distance= []\n",
    "\n",
    "\n",
    "for i in range(len(similarities[0])):\n",
    "    distance.append(similarities[0][i])\n",
    "    title.append(resulted_titles[0][i])\n",
    "    link.append(resulted_links[0][i])\n",
    "    rank.append(i+1)\n",
    " \n",
    " \n",
    "#Create DataFrame\n",
    "results_df = pd.DataFrame({\n",
    "    'RANK': rank,\n",
    "    'TITLE': title,\n",
    "    'LINK': link,\n",
    "    'DISTANCE': distance})\n",
    "\n",
    "\n",
    "results_df"
   ]
  },
  {
   "cell_type": "code",
   "execution_count": 0,
   "metadata": {
    "application/vnd.databricks.v1+cell": {
     "cellMetadata": {
      "byteLimit": 2048000,
      "rowLimit": 10000
     },
     "inputWidgets": {},
     "nuid": "cec28ef9-fe56-415b-a18c-42ef80e5860e",
     "showTitle": false,
     "title": ""
    }
   },
   "outputs": [],
   "source": [
    "#Find the abstract of the resulted data\n",
    "pre_results_data = results_df.merge(papers_df[['PAPER_LINK', 'PAPER_TITLE', 'PAPER_ABSTRACT']], left_on=['LINK', 'TITLE'], right_on=['PAPER_LINK', 'PAPER_TITLE'], how='left')\n",
    "data_to_be_summarized = pre_results_data[['RANK', 'TITLE', 'LINK', 'DISTANCE', 'PAPER_ABSTRACT']]\n",
    "data_to_be_summarized\n"
   ]
  },
  {
   "cell_type": "code",
   "execution_count": 0,
   "metadata": {
    "application/vnd.databricks.v1+cell": {
     "cellMetadata": {
      "byteLimit": 2048000,
      "rowLimit": 10000
     },
     "inputWidgets": {},
     "nuid": "81f1014f-caed-4e7e-946f-0f331558f8e2",
     "showTitle": false,
     "title": ""
    }
   },
   "outputs": [],
   "source": [
    "data_to_be_summarized['LENGTH'] = data_to_be_summarized['PAPER_ABSTRACT'].apply(lambda x: len(x))"
   ]
  },
  {
   "cell_type": "code",
   "execution_count": 0,
   "metadata": {
    "application/vnd.databricks.v1+cell": {
     "cellMetadata": {
      "byteLimit": 2048000,
      "rowLimit": 10000
     },
     "inputWidgets": {},
     "nuid": "fbdbb695-c998-40b0-abbe-f8394dbee4f3",
     "showTitle": false,
     "title": ""
    }
   },
   "outputs": [],
   "source": [
    "from transformers import pipeline\n",
    "\n",
    "summarizer = pipeline(\"summarization\", model=\"facebook/bart-large-cnn\")"
   ]
  },
  {
   "cell_type": "code",
   "execution_count": 0,
   "metadata": {
    "application/vnd.databricks.v1+cell": {
     "cellMetadata": {
      "byteLimit": 2048000,
      "rowLimit": 10000
     },
     "inputWidgets": {},
     "nuid": "802c24b1-057a-4199-bafa-8f1d0984b142",
     "showTitle": false,
     "title": ""
    }
   },
   "outputs": [],
   "source": [
    "summarized_abstracts= []\n",
    "for i in range(len(data_to_be_summarized)):\n",
    "    abstract= data_to_be_summarized['PAPER_ABSTRACT'].iloc[i]\n",
    "    summarized_abstracts.append(summarizer(abstract, max_length=130, min_length=30, do_sample=False))"
   ]
  },
  {
   "cell_type": "code",
   "execution_count": 0,
   "metadata": {
    "application/vnd.databricks.v1+cell": {
     "cellMetadata": {
      "byteLimit": 2048000,
      "rowLimit": 10000
     },
     "inputWidgets": {},
     "nuid": "1cdd221f-d647-4969-841e-ef0a9e90f6b0",
     "showTitle": false,
     "title": ""
    }
   },
   "outputs": [],
   "source": [
    "data_to_be_summarized['PAPER_ABSTRACT'].iloc[0]"
   ]
  },
  {
   "cell_type": "code",
   "execution_count": 0,
   "metadata": {
    "application/vnd.databricks.v1+cell": {
     "cellMetadata": {
      "byteLimit": 2048000,
      "rowLimit": 10000
     },
     "inputWidgets": {},
     "nuid": "65199dad-3533-4d84-a516-180922cf09ed",
     "showTitle": false,
     "title": ""
    }
   },
   "outputs": [],
   "source": [
    "summarized_abstracts"
   ]
  },
  {
   "cell_type": "code",
   "execution_count": 0,
   "metadata": {
    "application/vnd.databricks.v1+cell": {
     "cellMetadata": {
      "byteLimit": 2048000,
      "rowLimit": 10000
     },
     "inputWidgets": {},
     "nuid": "638da80f-6046-4f71-9795-4d9ddad0af51",
     "showTitle": false,
     "title": ""
    }
   },
   "outputs": [],
   "source": [
    "my_series = pd.Series(summarized_abstracts)"
   ]
  },
  {
   "cell_type": "code",
   "execution_count": 0,
   "metadata": {
    "application/vnd.databricks.v1+cell": {
     "cellMetadata": {
      "byteLimit": 2048000,
      "rowLimit": 10000
     },
     "inputWidgets": {},
     "nuid": "06ee3c3c-655c-42dc-b188-b72d25b39556",
     "showTitle": false,
     "title": ""
    }
   },
   "outputs": [],
   "source": [
    "my_series"
   ]
  },
  {
   "cell_type": "code",
   "execution_count": 0,
   "metadata": {
    "application/vnd.databricks.v1+cell": {
     "cellMetadata": {
      "byteLimit": 2048000,
      "rowLimit": 10000
     },
     "inputWidgets": {},
     "nuid": "3b6e0673-4ed0-4cf5-b983-3f8ebf08e1ad",
     "showTitle": false,
     "title": ""
    }
   },
   "outputs": [],
   "source": [
    "type(my_series)"
   ]
  },
  {
   "cell_type": "code",
   "execution_count": 0,
   "metadata": {
    "application/vnd.databricks.v1+cell": {
     "cellMetadata": {
      "byteLimit": 2048000,
      "rowLimit": 10000
     },
     "inputWidgets": {},
     "nuid": "f93e7e1a-2058-4711-8886-bb1f7b6a8faf",
     "showTitle": false,
     "title": ""
    }
   },
   "outputs": [],
   "source": [
    "final_data = data_to_be_summarized [['RANK', 'TITLE', 'LINK', 'DISTANCE']]\n",
    "final_data['SUMMARIZED_ABSTRACTS'] = my_series"
   ]
  },
  {
   "cell_type": "code",
   "execution_count": 0,
   "metadata": {
    "application/vnd.databricks.v1+cell": {
     "cellMetadata": {
      "byteLimit": 2048000,
      "rowLimit": 10000
     },
     "inputWidgets": {},
     "nuid": "36b78769-fc7d-4ea6-91c0-488dbe2e39ea",
     "showTitle": false,
     "title": ""
    }
   },
   "outputs": [],
   "source": [
    "\n",
    "\n",
    "final_data['SUMMARIZED_ABSTRACTS'][0][0]['summary_text']"
   ]
  },
  {
   "cell_type": "code",
   "execution_count": 0,
   "metadata": {
    "application/vnd.databricks.v1+cell": {
     "cellMetadata": {
      "byteLimit": 2048000,
      "rowLimit": 10000
     },
     "inputWidgets": {},
     "nuid": "5028fae3-0468-421a-8a78-66b80524cd91",
     "showTitle": false,
     "title": ""
    }
   },
   "outputs": [],
   "source": [
    "final_data['SUMMARIZED_ABSTRACTS'][1][0]['summary_text']"
   ]
  },
  {
   "cell_type": "code",
   "execution_count": 0,
   "metadata": {
    "application/vnd.databricks.v1+cell": {
     "cellMetadata": {
      "byteLimit": 2048000,
      "rowLimit": 10000
     },
     "inputWidgets": {},
     "nuid": "311c01ee-6ad7-4dd9-a455-62aa27cb70ad",
     "showTitle": false,
     "title": ""
    }
   },
   "outputs": [],
   "source": [
    "for i in range(len(final_data)):\n",
    "    final_data['SUMMARIZED_ABSTRACTS'].iloc[i] = final_data['SUMMARIZED_ABSTRACTS'][i][0]['summary_text']"
   ]
  },
  {
   "cell_type": "code",
   "execution_count": 0,
   "metadata": {
    "application/vnd.databricks.v1+cell": {
     "cellMetadata": {
      "byteLimit": 2048000,
      "rowLimit": 10000
     },
     "inputWidgets": {},
     "nuid": "3abad77e-ca09-4f2e-9c57-29d38e88be73",
     "showTitle": false,
     "title": ""
    }
   },
   "outputs": [],
   "source": [
    "final_data"
   ]
  },
  {
   "cell_type": "markdown",
   "metadata": {
    "application/vnd.databricks.v1+cell": {
     "cellMetadata": {},
     "inputWidgets": {},
     "nuid": "2a855490-4728-4b7b-98ee-16c48c15258c",
     "showTitle": false,
     "title": ""
    }
   },
   "source": [
    "CLEANED VERSION"
   ]
  },
  {
   "cell_type": "code",
   "execution_count": 0,
   "metadata": {
    "application/vnd.databricks.v1+cell": {
     "cellMetadata": {
      "byteLimit": 2048000,
      "rowLimit": 10000
     },
     "inputWidgets": {},
     "nuid": "f6d2d4f5-ea20-4f6e-9458-0ed39e6d731a",
     "showTitle": false,
     "title": ""
    }
   },
   "outputs": [],
   "source": [
    "# To be ran only one time\n",
    "\n",
    "RESEARCH_PAPER_DB = '/Workspace/Repos/global_nexus/databricks-hackathon-global-nexus/src/data/papers_titles_&_abstracts_1470.csv'\n",
    "papers_df = pd.read_csv(RESEARCH_PAPER_DB)\n",
    "#chroma_client = chromadb.Client()\n",
    "chroma_client = chromadb.PersistentClient(path=\"/Workspace/Repos/global_nexus/databricks-hackathon-global-nexus/src/vector_database/chroma_data_test_again/\")\n",
    "collection = chroma_client.create_collection(\"summarization_database_again\")\n",
    "# collection = chroma_client.get_collection(\"summarization_database_again\")\n",
    "document_list=[row[\"PAPER_TITLE\"] for idx, row in papers_df.iterrows()] \n",
    "document_ids=[row[\"PAPER_LINK\"] for idx, row in papers_df.iterrows()]\n",
    "collection.add(\n",
    "     documents=document_list,\n",
    "     ids=document_ids\n",
    " )\n",
    "chroma_client.list_collections()"
   ]
  },
  {
   "cell_type": "code",
   "execution_count": 0,
   "metadata": {
    "application/vnd.databricks.v1+cell": {
     "cellMetadata": {
      "byteLimit": 2048000,
      "rowLimit": 10000
     },
     "inputWidgets": {},
     "nuid": "f0e66fab-ea94-4d38-940c-94cf2c2876e7",
     "showTitle": false,
     "title": ""
    }
   },
   "outputs": [],
   "source": [
    "import chromadb\n",
    "from transformers import pipeline\n",
    "import pandas as pd\n",
    "\n",
    "\n",
    "RESEARCH_PAPER_DB = '/Workspace/Repos/global_nexus/databricks-hackathon-global-nexus/src/data/papers_titles_&_abstracts_1470.csv'\n",
    "\n",
    "\n",
    "#def create_vector_database (data_path):\n",
    "\n",
    "    #data = pd.read_csv(data_path)\n",
    "    #chroma_client = chromadb.Client()\n",
    "    #collection = chroma_client.create_collection(\"lllll_summarization_data_database\")\n",
    "    #collection.add(\n",
    "    #documents=[row[\"PAPER_TITLE\"] for idx, row in data.iterrows()], \n",
    "    #ids=[row[\"PAPER_LINK\"] for idx, row in data.iterrows()],)\n",
    "\n",
    "    #return collection\n",
    "\n",
    "\n",
    "def load_vector_database():\n",
    "    chroma_client = chromadb.PersistentClient(\n",
    "        path=\"/Workspace/Repos/global_nexus/databricks-hackathon-global-nexus/src/vector_database/chroma_data_test_again/\",\n",
    "    )\n",
    "    collection = chroma_client.get_collection(\"summarization_database_again\")\n",
    "    return collection\n",
    "\n",
    "\n",
    "def query_vector_database (collection, query):\n",
    "    #Ask Chromadb to give us a response\n",
    "\n",
    "    results = collection.query(\n",
    "    query_texts=[query],\n",
    "    n_results=3)\n",
    "\n",
    "    return results\n",
    "\n",
    "def preprocess_query_result(results):\n",
    "\n",
    "    #Get the data from the query results\n",
    "    resulted_titles = results['documents']\n",
    "    resulted_links = results['ids']\n",
    "\n",
    "    rank= []\n",
    "    title = []\n",
    "    link= []\n",
    "\n",
    "\n",
    "    for i in range(len(resulted_titles[0])):\n",
    "        title.append(resulted_titles[0][i])\n",
    "        link.append(resulted_links[0][i])\n",
    "        rank.append(i+1)\n",
    " \n",
    " \n",
    "    #Create DataFrame\n",
    "    results_df = pd.DataFrame({\n",
    "        'RANK': rank,\n",
    "        'TITLE': title,\n",
    "        'LINK': link\n",
    "        })\n",
    "    \n",
    "    return results_df\n",
    "\n",
    "def retrive_abstract_data (results_df, data_path):\n",
    "\n",
    "    #Find the abstract of the resulted data\n",
    "    data = pd.read_csv(data_path)\n",
    "    pre_results_data = results_df.merge(data[['PAPER_LINK', 'PAPER_TITLE', 'PAPER_ABSTRACT']], left_on=['LINK', 'TITLE'], right_on=['PAPER_LINK', 'PAPER_TITLE'], how='left')\n",
    "    data_to_be_summarized = pre_results_data[['RANK', 'TITLE', 'LINK', 'PAPER_ABSTRACT']]\n",
    "\n",
    "    return data_to_be_summarized\n",
    "\n",
    "\n",
    "\n",
    "def abstract_summarization(data_to_be_summarized):\n",
    "    summarizer = pipeline(\"summarization\", model=\"Falconsai/text_summarization\") # Falconsai/text_summarization facebook/bart-large-cnn\n",
    "    summarized_abstracts= []\n",
    "    for i in range(len(data_to_be_summarized)):\n",
    "        abstract= data_to_be_summarized['PAPER_ABSTRACT'].iloc[i]\n",
    "        summarized_abstracts.append(summarizer(abstract, max_length=130, min_length=30, do_sample=False))\n",
    "\n",
    "    my_series = pd.Series(summarized_abstracts)\n",
    "    final_data = data_to_be_summarized [['RANK', 'TITLE', 'LINK']]\n",
    "\n",
    "    final_data['SUMMARIZED_ABSTRACTS'] = my_series\n",
    "\n",
    "    for i in range(len(final_data)):\n",
    "        final_data['SUMMARIZED_ABSTRACTS'].iloc[i] = final_data['SUMMARIZED_ABSTRACTS'][i][0]['summary_text']\n",
    "\n",
    "    return final_data"
   ]
  },
  {
   "cell_type": "code",
   "execution_count": 0,
   "metadata": {
    "application/vnd.databricks.v1+cell": {
     "cellMetadata": {
      "byteLimit": 2048000,
      "rowLimit": 10000
     },
     "inputWidgets": {},
     "nuid": "a3bac8f5-baf4-4438-880f-c045620e8c06",
     "showTitle": false,
     "title": ""
    }
   },
   "outputs": [],
   "source": [
    "def summarization_pipeline (data_path):\n",
    "    #data_base=create_vector_database(data_path)\n",
    "    data_base = load_vector_database ()\n",
    "    query_results= query_vector_database (data_base,\"Give me any results about methamphetamine\")\n",
    "    processed_results = preprocess_query_result (query_results)\n",
    "    data_to_be_summarized = retrive_abstract_data(processed_results,data_path)\n",
    "    final_data= abstract_summarization(data_to_be_summarized)\n",
    "\n",
    "    return final_data"
   ]
  },
  {
   "cell_type": "code",
   "execution_count": 0,
   "metadata": {
    "application/vnd.databricks.v1+cell": {
     "cellMetadata": {
      "byteLimit": 2048000,
      "rowLimit": 10000
     },
     "inputWidgets": {},
     "nuid": "a23c3293-a018-4ca0-8ee1-eab66cfbefa5",
     "showTitle": false,
     "title": ""
    }
   },
   "outputs": [],
   "source": [
    "summarization_results = summarization_pipeline(RESEARCH_PAPER_DB)"
   ]
  },
  {
   "cell_type": "code",
   "execution_count": 0,
   "metadata": {
    "application/vnd.databricks.v1+cell": {
     "cellMetadata": {
      "byteLimit": 2048000,
      "rowLimit": 10000
     },
     "inputWidgets": {},
     "nuid": "dc055cc3-724b-4f14-9dc9-58c18359d814",
     "showTitle": false,
     "title": ""
    }
   },
   "outputs": [],
   "source": [
    "summarization_results"
   ]
  },
  {
   "cell_type": "code",
   "execution_count": 0,
   "metadata": {
    "application/vnd.databricks.v1+cell": {
     "cellMetadata": {
      "byteLimit": 2048000,
      "rowLimit": 10000
     },
     "inputWidgets": {},
     "nuid": "03efbe1e-b959-46a7-a1ad-070050f8b37a",
     "showTitle": false,
     "title": ""
    }
   },
   "outputs": [],
   "source": [
    "summary_list = []\n",
    "for i in range(3):\n",
    "    paper_row = summarization_results.iloc[i]\n",
    "    paper_summary = {\n",
    "        \"Title\": paper_row[\"TITLE\"],\n",
    "        \"Link\": paper_row[\"LINK\"],\n",
    "        \"Summary\": paper_row[\"SUMMARIZED_ABSTRACTS\"]\n",
    "    }\n",
    "    summary_list.append(paper_summary)"
   ]
  },
  {
   "cell_type": "code",
   "execution_count": 0,
   "metadata": {
    "application/vnd.databricks.v1+cell": {
     "cellMetadata": {
      "byteLimit": 2048000,
      "rowLimit": 10000
     },
     "inputWidgets": {},
     "nuid": "96c36ac8-f215-4206-ad20-09601db6f8a4",
     "showTitle": false,
     "title": ""
    }
   },
   "outputs": [],
   "source": [
    "summary_list"
   ]
  },
  {
   "cell_type": "code",
   "execution_count": 0,
   "metadata": {
    "application/vnd.databricks.v1+cell": {
     "cellMetadata": {
      "byteLimit": 2048000,
      "rowLimit": 10000
     },
     "inputWidgets": {},
     "nuid": "3a7eb452-8175-4662-962b-43768b739621",
     "showTitle": false,
     "title": ""
    }
   },
   "outputs": [],
   "source": [
    "return_summary_string = \"\"\n",
    "for summaries in summary_list:\n",
    "    return_summary_string += summaries[\"Title\"] + \"\\n\"\n",
    "    return_summary_string += summaries[\"Link\"] + \"\\n\"\n",
    "    return_summary_string += summaries[\"Summary\"] + \"\\n\" + \"\\n\""
   ]
  },
  {
   "cell_type": "code",
   "execution_count": 0,
   "metadata": {
    "application/vnd.databricks.v1+cell": {
     "cellMetadata": {
      "byteLimit": 2048000,
      "rowLimit": 10000
     },
     "inputWidgets": {},
     "nuid": "ccb78dc7-9616-4b5a-91ea-bfb20ff6b2d8",
     "showTitle": false,
     "title": ""
    }
   },
   "outputs": [],
   "source": [
    "print(return_summary_string)"
   ]
  }
 ],
 "metadata": {
  "application/vnd.databricks.v1+notebook": {
   "dashboards": [],
   "language": "python",
   "notebookMetadata": {
    "pythonIndentUnit": 4
   },
   "notebookName": "Summarization_task",
   "widgets": {}
  },
  "kernelspec": {
   "display_name": "_venv",
   "language": "python",
   "name": "python3"
  },
  "language_info": {
   "codemirror_mode": {
    "name": "ipython",
    "version": 3
   },
   "file_extension": ".py",
   "mimetype": "text/x-python",
   "name": "python",
   "nbconvert_exporter": "python",
   "pygments_lexer": "ipython3",
   "version": "3.11.9"
  }
 },
 "nbformat": 4,
 "nbformat_minor": 0
}
