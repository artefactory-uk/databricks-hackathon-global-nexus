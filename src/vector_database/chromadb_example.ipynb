{
 "cells": [
  {
   "cell_type": "markdown",
   "metadata": {},
   "source": [
    "# Chromadb Example Notebook\n",
    "Quick example on how to add documents to chromadb and perform searches based on a query."
   ]
  },
  {
   "cell_type": "code",
   "execution_count": 9,
   "metadata": {},
   "outputs": [],
   "source": [
    "import pandas as pd\n",
    "DATA_DIR = 'src/data'\n",
    "RESEARCH_PAPER_DB = f'{DATA_DIR}/papers_titles_&_abstracts_1470.csv'"
   ]
  },
  {
   "cell_type": "code",
   "execution_count": 11,
   "metadata": {},
   "outputs": [
    {
     "data": {
      "text/html": [
       "<div>\n",
       "<style scoped>\n",
       "    .dataframe tbody tr th:only-of-type {\n",
       "        vertical-align: middle;\n",
       "    }\n",
       "\n",
       "    .dataframe tbody tr th {\n",
       "        vertical-align: top;\n",
       "    }\n",
       "\n",
       "    .dataframe thead th {\n",
       "        text-align: right;\n",
       "    }\n",
       "</style>\n",
       "<table border=\"1\" class=\"dataframe\">\n",
       "  <thead>\n",
       "    <tr style=\"text-align: right;\">\n",
       "      <th></th>\n",
       "      <th>PAGE</th>\n",
       "      <th>PAPER_LINK</th>\n",
       "      <th>PAPER_TITLE</th>\n",
       "      <th>PAPER_ABSTRACT</th>\n",
       "    </tr>\n",
       "  </thead>\n",
       "  <tbody>\n",
       "    <tr>\n",
       "      <th>0</th>\n",
       "      <td>1</td>\n",
       "      <td>https://www.medrxiv.org/content/10.1101/2024.0...</td>\n",
       "      <td>Methamphetamine-associated Heart Failure: Clin...</td>\n",
       "      <td>AbstractBackground\\nMethamphetamine use has in...</td>\n",
       "    </tr>\n",
       "    <tr>\n",
       "      <th>1</th>\n",
       "      <td>1</td>\n",
       "      <td>https://www.medrxiv.org/content/10.1101/2024.0...</td>\n",
       "      <td>Association of aortic clamping time with syste...</td>\n",
       "      <td>AbstractObjective: Aortic clamping time during...</td>\n",
       "    </tr>\n",
       "    <tr>\n",
       "      <th>2</th>\n",
       "      <td>1</td>\n",
       "      <td>https://www.medrxiv.org/content/10.1101/2024.0...</td>\n",
       "      <td>The Metabolic Triad: Trends and Determinants o...</td>\n",
       "      <td>AbstractIntroduction: In recent years, the pre...</td>\n",
       "    </tr>\n",
       "    <tr>\n",
       "      <th>3</th>\n",
       "      <td>1</td>\n",
       "      <td>https://www.medrxiv.org/content/10.1101/2024.0...</td>\n",
       "      <td>Mapping the environmental co-benefits of reduc...</td>\n",
       "      <td>AbstractBackground:\\nReducing low-value care (...</td>\n",
       "    </tr>\n",
       "    <tr>\n",
       "      <th>4</th>\n",
       "      <td>1</td>\n",
       "      <td>https://www.medrxiv.org/content/10.1101/2024.0...</td>\n",
       "      <td>Oxytocin reduces subjective fear in naturalist...</td>\n",
       "      <td>AbstractAccumulating evidence from animal and ...</td>\n",
       "    </tr>\n",
       "  </tbody>\n",
       "</table>\n",
       "</div>"
      ],
      "text/plain": [
       "   PAGE                                         PAPER_LINK  \\\n",
       "0     1  https://www.medrxiv.org/content/10.1101/2024.0...   \n",
       "1     1  https://www.medrxiv.org/content/10.1101/2024.0...   \n",
       "2     1  https://www.medrxiv.org/content/10.1101/2024.0...   \n",
       "3     1  https://www.medrxiv.org/content/10.1101/2024.0...   \n",
       "4     1  https://www.medrxiv.org/content/10.1101/2024.0...   \n",
       "\n",
       "                                         PAPER_TITLE  \\\n",
       "0  Methamphetamine-associated Heart Failure: Clin...   \n",
       "1  Association of aortic clamping time with syste...   \n",
       "2  The Metabolic Triad: Trends and Determinants o...   \n",
       "3  Mapping the environmental co-benefits of reduc...   \n",
       "4  Oxytocin reduces subjective fear in naturalist...   \n",
       "\n",
       "                                      PAPER_ABSTRACT  \n",
       "0  AbstractBackground\\nMethamphetamine use has in...  \n",
       "1  AbstractObjective: Aortic clamping time during...  \n",
       "2  AbstractIntroduction: In recent years, the pre...  \n",
       "3  AbstractBackground:\\nReducing low-value care (...  \n",
       "4  AbstractAccumulating evidence from animal and ...  "
      ]
     },
     "execution_count": 11,
     "metadata": {},
     "output_type": "execute_result"
    }
   ],
   "source": [
    "papers_df = pd.read_csv(RESEARCH_PAPER_DB)\n",
    "papers_df.head()"
   ]
  },
  {
   "cell_type": "code",
   "execution_count": 12,
   "metadata": {},
   "outputs": [],
   "source": [
    "import chromadb\n",
    "chroma_client = chromadb.Client()\n",
    "collection = chroma_client.create_collection(\"example_database\")"
   ]
  },
  {
   "cell_type": "code",
   "execution_count": 13,
   "metadata": {},
   "outputs": [
    {
     "name": "stderr",
     "output_type": "stream",
     "text": [
      "/Users/glenhopkins/.cache/chroma/onnx_models/all-MiniLM-L6-v2/onnx.tar.gz: 100%|██████████| 79.3M/79.3M [00:20<00:00, 4.14MiB/s]\n"
     ]
    }
   ],
   "source": [
    "collection.add(\n",
    "    documents=[papers_df.iloc[0][\"PAPER_TITLE\"], papers_df.iloc[1][\"PAPER_TITLE\"]], \n",
    "    ids=[papers_df.iloc[0][\"PAPER_LINK\"], papers_df.iloc[1][\"PAPER_LINK\"]], \n",
    ")"
   ]
  },
  {
   "cell_type": "code",
   "execution_count": 16,
   "metadata": {},
   "outputs": [],
   "source": [
    "results = collection.query(\n",
    "    query_texts=[\"Give me any results about methamphetamine\"],\n",
    "    n_results=2\n",
    ")"
   ]
  },
  {
   "cell_type": "code",
   "execution_count": 17,
   "metadata": {},
   "outputs": [
    {
     "data": {
      "text/plain": [
       "{'ids': [['https://www.medrxiv.org/content/10.1101/2024.04.22.24306200v1',\n",
       "   'https://www.medrxiv.org/content/10.1101/2024.04.22.24306198v1']],\n",
       " 'distances': [[0.9249899387359619, 2.2934699058532715]],\n",
       " 'metadatas': [[None, None]],\n",
       " 'embeddings': None,\n",
       " 'documents': [['Methamphetamine-associated Heart Failure: Clinical phenotypes and Outcomes in a Safety Net Population.',\n",
       "   'Association of aortic clamping time with systemic immune inflammation and systemic inflammatory response indexes in isolated coronary bypass surgery']],\n",
       " 'uris': None,\n",
       " 'data': None}"
      ]
     },
     "execution_count": 17,
     "metadata": {},
     "output_type": "execute_result"
    }
   ],
   "source": [
    "results"
   ]
  }
 ],
 "metadata": {
  "kernelspec": {
   "display_name": "_venv",
   "language": "python",
   "name": "python3"
  },
  "language_info": {
   "codemirror_mode": {
    "name": "ipython",
    "version": 3
   },
   "file_extension": ".py",
   "mimetype": "text/x-python",
   "name": "python",
   "nbconvert_exporter": "python",
   "pygments_lexer": "ipython3",
   "version": "3.11.9"
  }
 },
 "nbformat": 4,
 "nbformat_minor": 2
}
