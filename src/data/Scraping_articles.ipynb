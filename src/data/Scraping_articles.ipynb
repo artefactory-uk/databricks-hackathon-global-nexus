{
 "cells": [
  {
   "cell_type": "code",
   "execution_count": 0,
   "metadata": {
    "application/vnd.databricks.v1+cell": {
     "cellMetadata": {},
     "inputWidgets": {},
     "nuid": "41ca5343-f1b5-437a-a7d9-06e4697774e8",
     "showTitle": false,
     "title": ""
    },
    "scrolled": true
   },
   "outputs": [],
   "source": [
    "#Scraping the page and link from the website\n",
    "from bs4 import BeautifulSoup\n",
    "import requests\n",
    "import pandas as pd\n",
    "import time\n",
    "from fake_useragent import UserAgent\n",
    "\n",
    "\n",
    "# Initialize lists to store data\n",
    "PAGE = []\n",
    "PAPER_LINK = []\n",
    "\n",
    "\n",
    "# Initialize user agent\n",
    "user_agent = UserAgent()\n",
    "\n",
    "# Set page numbers to scrape here.\n",
    "from_page = 1\n",
    "to_page = 200\n",
    "\n",
    "# Function to get response with rotating user agents\n",
    "def get_response(url):\n",
    "    headers = {'User-Agent': user_agent.random}\n",
    "    response = requests.get(url, headers=headers)\n",
    "    return response\n",
    "\n",
    "# Scraping loop\n",
    "for i in range(from_page, to_page + 1):\n",
    "    print(i)\n",
    "    # Construct URL\n",
    "    url = f\"https://www.medrxiv.org/content/early/recent?page={i}\"\n",
    "\n",
    "    # Get response with rotating user agent\n",
    "    response = get_response(url)\n",
    "    web_page = response.text\n",
    "    soup = BeautifulSoup(web_page, \"html.parser\")\n",
    "    links = soup.find_all('a', class_='highwire-cite-linked-title')\n",
    "    \n",
    "    \n",
    "    for link in links:\n",
    "        website= 'https://www.medrxiv.org'+ link['href']\n",
    "        PAPER_LINK.append(website)\n",
    "        PAGE.append(i)\n",
    "\n",
    "    time.sleep(2)\n",
    "\n",
    "# Create DataFrame\n",
    "df_papers = pd.DataFrame({\n",
    "    'PAGE': PAGE,\n",
    "    'PAPER_LINK': PAPER_LINK})\n",
    "\n",
    "# Output DataFrame to CSV or perform further analysis\n",
    "df_papers.to_csv('papers_links_200.csv', index=False)"
   ]
  },
  {
   "cell_type": "code",
   "execution_count": 0,
   "metadata": {
    "application/vnd.databricks.v1+cell": {
     "cellMetadata": {},
     "inputWidgets": {},
     "nuid": "efaeb858-58c3-4ca8-9e7d-718da3ad54b7",
     "showTitle": false,
     "title": ""
    },
    "scrolled": true
   },
   "outputs": [],
   "source": [
    "#Scraping the title and abstract from the scraped links\n",
    "for index, row in df_papers.iterrows():\n",
    "    print(index)\n",
    "    link=  df_papers.loc[index, 'PAPER_LINK']\n",
    "    response = get_response(link)\n",
    "    web_page = response.text\n",
    "    soup = BeautifulSoup(web_page, \"html.parser\")\n",
    "    \n",
    "    title_tag = soup.find('h1', class_='highwire-cite-title')\n",
    "\n",
    "    abstract_tag = soup.find('div', class_='section abstract')\n",
    "    \n",
    "    # Calculate the product of 'A' and 'B'\n",
    "    df_papers.loc[index, 'PAPER_TITLE'] = title_tag.text\n",
    "    df_papers.loc[index, 'PAPER_ABSTRACT'] = abstract_tag.text"
   ]
  },
  {
   "cell_type": "code",
   "execution_count": 0,
   "metadata": {
    "application/vnd.databricks.v1+cell": {
     "cellMetadata": {},
     "inputWidgets": {},
     "nuid": "c071b781-2936-4489-af61-625b3c4b494d",
     "showTitle": false,
     "title": ""
    }
   },
   "outputs": [],
   "source": [
    "df_updated= df_papers.dropna()"
   ]
  },
  {
   "cell_type": "code",
   "execution_count": 0,
   "metadata": {
    "application/vnd.databricks.v1+cell": {
     "cellMetadata": {},
     "inputWidgets": {},
     "nuid": "51744b54-ebca-4153-88c4-7bba8ba8fb5d",
     "showTitle": false,
     "title": ""
    }
   },
   "outputs": [],
   "source": [
    "df_updated.info()"
   ]
  },
  {
   "cell_type": "code",
   "execution_count": 0,
   "metadata": {
    "application/vnd.databricks.v1+cell": {
     "cellMetadata": {},
     "inputWidgets": {},
     "nuid": "66f950b8-b104-4e76-87ef-3bdfe8b1b495",
     "showTitle": false,
     "title": ""
    }
   },
   "outputs": [],
   "source": [
    "df_updated"
   ]
  },
  {
   "cell_type": "code",
   "execution_count": 0,
   "metadata": {
    "application/vnd.databricks.v1+cell": {
     "cellMetadata": {},
     "inputWidgets": {},
     "nuid": "a25427e1-edc7-4560-ae50-88fc8b5bd69e",
     "showTitle": false,
     "title": ""
    }
   },
   "outputs": [],
   "source": [
    "# Output DataFrame to CSV or perform further analysis\n",
    "df_updated.to_csv('papers_titles_&_abstracts_1470.csv', index=False)"
   ]
  }
 ],
 "metadata": {
  "application/vnd.databricks.v1+notebook": {
   "dashboards": [],
   "language": "python",
   "notebookMetadata": {
    "pythonIndentUnit": 4
   },
   "notebookName": "Scraping_articles",
   "widgets": {}
  },
  "kernelspec": {
   "display_name": "Python 3 (ipykernel)",
   "language": "python",
   "name": "python3"
  },
  "language_info": {
   "codemirror_mode": {
    "name": "ipython",
    "version": 3
   },
   "file_extension": ".py",
   "mimetype": "text/x-python",
   "name": "python",
   "nbconvert_exporter": "python",
   "pygments_lexer": "ipython3",
   "version": "3.12.1"
  }
 },
 "nbformat": 4,
 "nbformat_minor": 0
}
